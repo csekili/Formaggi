{
 "cells": [
  {
   "cell_type": "code",
   "execution_count": 1,
   "metadata": {},
   "outputs": [],
   "source": [
    "import numpy as np\n",
    "import json"
   ]
  },
  {
   "cell_type": "code",
   "execution_count": 2,
   "metadata": {},
   "outputs": [],
   "source": [
    "scene_file = \"CLEVR_val_scenes.json\"\n",
    "with open(scene_file) as f:\n",
    "    file = json.load(f)\n",
    "    info = file[\"info\"]\n",
    "    scenes = file[\"scenes\"]"
   ]
  },
  {
   "cell_type": "code",
   "execution_count": 31,
   "metadata": {},
   "outputs": [
    {
     "name": "stdout",
     "output_type": "stream",
     "text": [
      "{'image_index': 0, 'objects': [{'color': 'brown', 'size': 'large', 'rotation': 178.92387258999463, 'shape': 'cylinder', '3d_coords': [-1.4937210083007812, -1.9936031103134155, 0.699999988079071], 'material': 'rubber', 'pixel_coords': [119, 131, 10.801968574523926]}, {'color': 'gray', 'size': 'large', 'rotation': 243.405459279722, 'shape': 'cube', '3d_coords': [1.555708646774292, -2.104736566543579, 0.699999988079071], 'material': 'rubber', 'pixel_coords': [198, 190, 8.60103988647461]}, {'color': 'green', 'size': 'small', 'rotation': 230.45235024165092, 'shape': 'cylinder', '3d_coords': [-2.342184543609619, -0.5205014944076538, 0.3499999940395355], 'material': 'rubber', 'pixel_coords': [161, 118, 12.372727394104004]}, {'color': 'purple', 'size': 'large', 'rotation': 31.654351858799153, 'shape': 'sphere', '3d_coords': [-0.8073106408119202, 1.914123773574829, 0.699999988079071], 'material': 'metal', 'pixel_coords': [282, 100, 12.495001792907715]}, {'color': 'gray', 'size': 'small', 'rotation': 42.183287560575, 'shape': 'cube', '3d_coords': [2.6763813495635986, 0.03453871235251427, 0.3499999940395355], 'material': 'metal', 'pixel_coords': [337, 195, 9.161211967468262]}], 'relationships': {'right': [[1, 2, 3, 4], [3, 4], [1, 3, 4], [4], []], 'behind': [[2, 3], [0, 2, 3, 4], [3], [], [0, 2, 3]], 'front': [[1, 4], [], [0, 1, 4], [0, 1, 2, 4], [1]], 'left': [[], [0, 2], [0], [0, 1, 2], [0, 1, 2, 3]]}, 'image_filename': 'CLEVR_val_000000.png', 'split': 'val', 'directions': {'right': [0.6563112735748291, 0.7544902563095093, -0.0], 'behind': [-0.754490315914154, 0.6563112735748291, 0.0], 'above': [0.0, 0.0, 1.0], 'below': [-0.0, -0.0, -1.0], 'left': [-0.6563112735748291, -0.7544902563095093, 0.0], 'front': [0.754490315914154, -0.6563112735748291, -0.0]}}\n",
      "{'right': [[1, 2, 3, 6, 7], [], [1], [1, 2], [0, 1, 2, 3, 5, 6, 7, 8, 9], [0, 1, 2, 3, 6, 7], [1, 2, 3, 7], [1, 2, 3], [0, 1, 2, 3, 5, 6, 7, 9], [0, 1, 2, 3, 5, 6, 7]], 'behind': [[3, 5], [0, 3, 4, 5], [0, 1, 3, 4, 5, 7, 8], [5], [0, 3, 5], [], [0, 1, 2, 3, 4, 5, 7, 8, 9], [0, 1, 3, 4, 5], [0, 1, 3, 4, 5, 7], [0, 1, 2, 3, 4, 5, 7, 8]], 'front': [[1, 2, 4, 6, 7, 8, 9], [2, 6, 7, 8, 9], [6, 9], [0, 1, 2, 4, 6, 7, 8, 9], [1, 2, 6, 7, 8, 9], [0, 1, 2, 3, 4, 6, 7, 8, 9], [], [2, 6, 8, 9], [2, 6, 9], [6]], 'left': [[4, 5, 8, 9], [0, 2, 3, 4, 5, 6, 7, 8, 9], [0, 3, 4, 5, 6, 7, 8, 9], [0, 4, 5, 6, 7, 8, 9], [], [4, 8, 9], [0, 4, 5, 8, 9], [0, 4, 5, 6, 8, 9], [4], [4, 8]]}\n"
     ]
    }
   ],
   "source": [
    "print(scenes[0])\n",
    "print(scenes[1][\"relationships\"])\n"
   ]
  },
  {
   "cell_type": "code",
   "execution_count": 32,
   "metadata": {},
   "outputs": [
    {
     "name": "stdout",
     "output_type": "stream",
     "text": [
      "0\n",
      "1000\n",
      "2000\n",
      "3000\n",
      "4000\n",
      "5000\n",
      "6000\n",
      "7000\n",
      "8000\n",
      "9000\n",
      "10000\n",
      "11000\n",
      "12000\n",
      "13000\n",
      "14000\n"
     ]
    }
   ],
   "source": [
    "for scene in scenes:\n",
    "    scene_csirip = \"Scene \" + str(scene[\"image_filename\"][:-4]) +\"{\"\n",
    "    items = scene[\"objects\"]\n",
    "    relationships = scene[\"relationships\"]\n",
    "    for i in range(len(items)):\n",
    "        item = items[i]\n",
    "        item_csirip = \"\\n\\tItem I\" + str(i) + \" is a\"\n",
    "        item_csirip =  item_csirip + \" \" +item[\"size\"]\n",
    "        item_csirip =  item_csirip + \" \" +item[\"color\"] \n",
    "        item_csirip =  item_csirip + \" \" +item[\"material\"] \n",
    "        item_csirip =  item_csirip + \" \" +item[\"shape\"] + \"\\n\\t\\t{\\n\\t\\t\"\n",
    "        item_csirip = item_csirip + \"rotation: \" + str(item[\"rotation\"]) + \",\"\n",
    "        \n",
    "        right = np.array(relationships[\"right\"][i]).astype(str)\n",
    "        left = np.array(relationships[\"left\"][i]).astype(str)\n",
    "        front = np.array(relationships[\"front\"][i]).astype(str)\n",
    "        behind = np.array(relationships[\"behind\"][i]).astype(str)\n",
    "        for rel in [right, left, front, behind]:\n",
    "            for i in range(len(rel)):\n",
    "                rel[i] = \"I\" + str(rel[i])\n",
    "        if len(right) > 0 :\n",
    "            item_csirip = item_csirip +\"\\n\\t\\tright: \" + str(list(right)).replace(\"'\", \"\") + \",\" \n",
    "        if len(front) > 0 :\n",
    "            item_csirip = item_csirip +\"\\n\\t\\tfront: \" + str(list(front)).replace(\"'\", \"\") + \",\"\n",
    "        if len(left) > 0 :\n",
    "            item_csirip = item_csirip +\"\\n\\t\\tleft: \" + str(list(left)).replace(\"'\", \"\") + \",\" \n",
    "        if len(behind) > 0 :\n",
    "            item_csirip = item_csirip +\"\\n\\t\\tbehind: \" + str(list(behind)).replace(\"'\", \"\") + \",\" \n",
    "\n",
    "        item_csirip = item_csirip + \"\\n\\t\\tcenter: x: \" + str(item[\"3d_coords\"][0]) + \",\"\n",
    "        item_csirip = item_csirip + \" y: \" + str(item[\"3d_coords\"][1]) + \"\\n\\t\\t}\"\n",
    "        scene_csirip = scene_csirip + item_csirip + \",\"\n",
    "    scene_csirip = scene_csirip[:-1]\n",
    "    scene_csirip = scene_csirip + \"\\n}\"\n",
    "    csirip_filename = scene[\"image_filename\"][:-4] + \".csirip\"\n",
    "    with open(csirip_filename, \"w\") as text_file:\n",
    "        text_file.write(scene_csirip)\n",
    "        \n",
    "    if scene[\"image_index\"] % 1000 == 0:\n",
    "        print(scene[\"image_index\"])"
   ]
  },
  {
   "cell_type": "code",
   "execution_count": null,
   "metadata": {},
   "outputs": [],
   "source": []
  },
  {
   "cell_type": "code",
   "execution_count": null,
   "metadata": {},
   "outputs": [],
   "source": []
  }
 ],
 "metadata": {
  "kernelspec": {
   "display_name": "Python 3",
   "language": "python",
   "name": "python3"
  },
  "language_info": {
   "codemirror_mode": {
    "name": "ipython",
    "version": 3
   },
   "file_extension": ".py",
   "mimetype": "text/x-python",
   "name": "python",
   "nbconvert_exporter": "python",
   "pygments_lexer": "ipython3",
   "version": "3.8.5"
  }
 },
 "nbformat": 4,
 "nbformat_minor": 4
}
