{
 "cells": [
  {
   "cell_type": "code",
   "execution_count": 14,
   "metadata": {},
   "outputs": [],
   "source": [
    "import h5py\n",
    "import numpy as np\n",
    "import pandas as pd"
   ]
  },
  {
   "cell_type": "code",
   "execution_count": 5,
   "metadata": {},
   "outputs": [],
   "source": [
    "files = [\n",
    "    \"val_18k.h5\",\n",
    "    \"val_700k_strong.h5\",\n",
    "    \"val_9k.h5\",\n",
    "    \"val_cnn_lstm_sa_mlp.h5\",\n",
    "    \"val_cnn_lstm_sa.h5\",\n",
    "    \"val_cnn_lstm.h5\",\n",
    "    \"val_lstm.h5\"\n",
    "]"
   ]
  },
  {
   "cell_type": "code",
   "execution_count": 15,
   "metadata": {},
   "outputs": [],
   "source": [
    "df = pd.DataFrame([])"
   ]
  },
  {
   "cell_type": "code",
   "execution_count": 18,
   "metadata": {},
   "outputs": [
    {
     "name": "stdout",
     "output_type": "stream",
     "text": [
      "keys of  val_18k.h5 : \n",
      "\t <KeysViewHDF5 ['correct', 'predicted_programs', 'preds', 'probs', 'scores']>\n",
      "<KeysViewHDF5 []>\n",
      "<KeysViewHDF5 []>\n",
      "<KeysViewHDF5 []>\n",
      "<KeysViewHDF5 []>\n",
      "<KeysViewHDF5 []>\n",
      "keys of  val_700k_strong.h5 : \n",
      "\t <KeysViewHDF5 ['correct', 'predicted_programs', 'preds', 'probs', 'scores']>\n",
      "<KeysViewHDF5 []>\n",
      "<KeysViewHDF5 []>\n",
      "<KeysViewHDF5 []>\n",
      "<KeysViewHDF5 []>\n",
      "<KeysViewHDF5 []>\n",
      "keys of  val_9k.h5 : \n",
      "\t <KeysViewHDF5 ['correct', 'predicted_programs', 'preds', 'probs', 'scores']>\n",
      "<KeysViewHDF5 []>\n",
      "<KeysViewHDF5 []>\n",
      "<KeysViewHDF5 []>\n",
      "<KeysViewHDF5 []>\n",
      "<KeysViewHDF5 []>\n",
      "keys of  val_cnn_lstm_sa_mlp.h5 : \n",
      "\t <KeysViewHDF5 ['correct', 'preds', 'probs', 'scores']>\n",
      "<KeysViewHDF5 []>\n",
      "<KeysViewHDF5 []>\n",
      "<KeysViewHDF5 []>\n",
      "<KeysViewHDF5 []>\n",
      "keys of  val_cnn_lstm_sa.h5 : \n",
      "\t <KeysViewHDF5 ['correct', 'preds', 'probs', 'scores']>\n",
      "<KeysViewHDF5 []>\n",
      "<KeysViewHDF5 []>\n",
      "<KeysViewHDF5 []>\n",
      "<KeysViewHDF5 []>\n",
      "keys of  val_cnn_lstm.h5 : \n",
      "\t <KeysViewHDF5 ['correct', 'preds', 'probs', 'scores']>\n",
      "<KeysViewHDF5 []>\n",
      "<KeysViewHDF5 []>\n",
      "<KeysViewHDF5 []>\n",
      "<KeysViewHDF5 []>\n",
      "keys of  val_lstm.h5 : \n",
      "\t <KeysViewHDF5 ['correct', 'preds', 'probs', 'scores']>\n",
      "<KeysViewHDF5 []>\n",
      "<KeysViewHDF5 []>\n",
      "<KeysViewHDF5 []>\n",
      "<KeysViewHDF5 []>\n"
     ]
    }
   ],
   "source": [
    "for file in files:\n",
    "    f = h5py.File(file, \"r\")\n",
    "    keys = f.keys()\n",
    "    print(\"keys of \", file, \": \\n\\t\", keys)\n",
    "    for k in keys:\n",
    "        "
   ]
  },
  {
   "cell_type": "code",
   "execution_count": null,
   "metadata": {},
   "outputs": [],
   "source": []
  }
 ],
 "metadata": {
  "kernelspec": {
   "display_name": "Python 3",
   "language": "python",
   "name": "python3"
  },
  "language_info": {
   "codemirror_mode": {
    "name": "ipython",
    "version": 3
   },
   "file_extension": ".py",
   "mimetype": "text/x-python",
   "name": "python",
   "nbconvert_exporter": "python",
   "pygments_lexer": "ipython3",
   "version": "3.8.5"
  }
 },
 "nbformat": 4,
 "nbformat_minor": 4
}
